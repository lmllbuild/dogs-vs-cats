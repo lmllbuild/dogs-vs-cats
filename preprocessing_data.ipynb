{
 "cells": [
  {
   "cell_type": "code",
   "execution_count": 1,
   "metadata": {},
   "outputs": [],
   "source": [
    "import os\n",
    "import shutil"
   ]
  },
  {
   "cell_type": "code",
   "execution_count": 2,
   "metadata": {},
   "outputs": [
    {
     "name": "stdout",
     "output_type": "stream",
     "text": [
      "train_filenames size: 24962\n"
     ]
    }
   ],
   "source": [
    "train_filenames = os.listdir('train')\n",
    "remove_filenames = ['dog.10801.jpg', 'dog.1194.jpg', 'cat.2939.jpg', 'dog.12376.jpg', 'dog.5604.jpg', 'dog.9517.jpg', 'cat.4688.jpg', \n",
    "                    'dog.2614.jpg', 'dog.8898.jpg', 'dog.11266.jpg', 'cat.10712.jpg', 'dog.3889.jpg', 'cat.3672.jpg', 'cat.5418.jpg', \n",
    "                    'dog.1259.jpg', 'dog.6725.jpg', 'dog.1895.jpg', 'dog.10237.jpg', 'dog.8736.jpg', 'cat.8456.jpg', 'dog.11299.jpg', \n",
    "                    'dog.4367.jpg', 'cat.7377.jpg', 'cat.7968.jpg', 'dog.9188.jpg', 'cat.11184.jpg', 'cat.9171.jpg', 'dog.10161.jpg', \n",
    "                    'dog.10190.jpg', 'dog.6475.jpg', 'dog.10747.jpg', 'cat.8470.jpg', 'cat.5351.jpg', 'dog.1773.jpg', 'cat.10029.jpg', \n",
    "                    'cat.7564.jpg', 'cat.4338.jpg', 'cat.3216.jpg']\n",
    "train_filenames = list(set(train_filenames).difference(set(remove_filenames)))\n",
    "print(\"train_filenames size:\", len(train_filenames))"
   ]
  },
  {
   "cell_type": "code",
   "execution_count": 3,
   "metadata": {},
   "outputs": [],
   "source": [
    "train_cat = filter(lambda x:x[:3] == 'cat', train_filenames)\n",
    "train_dog = filter(lambda x:x[:3] == 'dog', train_filenames)"
   ]
  },
  {
   "cell_type": "code",
   "execution_count": 4,
   "metadata": {},
   "outputs": [],
   "source": [
    "test_filesnames = os.listdir(\"test\")\n",
    "\n",
    "def rmrf_mkdir(dirname):\n",
    "    if os.path.exists(dirname):\n",
    "        shutil.rmtree(dirname)\n",
    "    os.mkdir(dirname)\n",
    "    \n",
    "rmrf_mkdir('train2')\n",
    "os.mkdir('train2/cat')\n",
    "os.mkdir('train2/dog')\n",
    "\n",
    "rmrf_mkdir('test2')\n",
    "os.mkdir('test2/test')\n",
    "\n",
    "for filename in test_filesnames:\n",
    "    os.symlink('/home/ubuntu/dogcat/test/'+filename, 'test2/test/'+filename)\n",
    "\n",
    "for filename in train_cat:\n",
    "    os.symlink('/home/ubuntu/dogcat/train/'+filename, 'train2/cat/'+filename)\n",
    "    \n",
    "for filename in train_dog:\n",
    "    os.symlink('/home/ubuntu/dogcat/train/'+filename, 'train2/dog/'+filename)"
   ]
  },
  {
   "cell_type": "code",
   "execution_count": 5,
   "metadata": {},
   "outputs": [
    {
     "name": "stdout",
     "output_type": "stream",
     "text": [
      "train_cat2 size: 12484\n",
      "train_dog2 size: 12478\n"
     ]
    }
   ],
   "source": [
    "train_cat2 = os.listdir(\"train2/cat\")\n",
    "train_dog2 = os.listdir(\"train2/dog\")\n",
    "\n",
    "print(\"train_cat2 size:\", len(train_cat2))\n",
    "print(\"train_dog2 size:\", len(train_dog2))"
   ]
  },
  {
   "cell_type": "code",
   "execution_count": null,
   "metadata": {},
   "outputs": [],
   "source": []
  }
 ],
 "metadata": {
  "kernelspec": {
   "display_name": "Python [conda env:tensorflow_p36]",
   "language": "python",
   "name": "conda-env-tensorflow_p36-py"
  },
  "language_info": {
   "codemirror_mode": {
    "name": "ipython",
    "version": 3
   },
   "file_extension": ".py",
   "mimetype": "text/x-python",
   "name": "python",
   "nbconvert_exporter": "python",
   "pygments_lexer": "ipython3",
   "version": "3.6.4"
  }
 },
 "nbformat": 4,
 "nbformat_minor": 2
}
