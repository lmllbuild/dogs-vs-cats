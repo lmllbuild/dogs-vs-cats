{
 "cells": [
  {
   "cell_type": "code",
   "execution_count": 1,
   "metadata": {},
   "outputs": [
    {
     "name": "stderr",
     "output_type": "stream",
     "text": [
      "/home/ubuntu/anaconda3/envs/tensorflow_p36/lib/python3.6/site-packages/h5py/__init__.py:36: FutureWarning: Conversion of the second argument of issubdtype from `float` to `np.floating` is deprecated. In future, it will be treated as `np.float64 == np.dtype(float).type`.\n",
      "  from ._conv import register_converters as _register_converters\n",
      "Using TensorFlow backend.\n",
      "/home/ubuntu/anaconda3/envs/tensorflow_p36/lib/python3.6/site-packages/matplotlib/__init__.py:1067: UserWarning: Duplicate key in file \"/home/ubuntu/.config/matplotlib/matplotlibrc\", line #2\n",
      "  (fname, cnt))\n",
      "/home/ubuntu/anaconda3/envs/tensorflow_p36/lib/python3.6/site-packages/matplotlib/__init__.py:1067: UserWarning: Duplicate key in file \"/home/ubuntu/.config/matplotlib/matplotlibrc\", line #3\n",
      "  (fname, cnt))\n"
     ]
    }
   ],
   "source": [
    "from keras.models import *\n",
    "from keras.layers import *\n",
    "from keras.applications import *\n",
    "from keras.preprocessing.image import *\n",
    "import numpy as np\n",
    "from sklearn.utils import shuffle\n",
    "\n",
    "import h5py"
   ]
  },
  {
   "cell_type": "code",
   "execution_count": 2,
   "metadata": {},
   "outputs": [],
   "source": [
    "np.random.seed(2018)\n",
    "\n",
    "X_train = []\n",
    "X_test = []\n",
    "\n",
    "for filename in [\"gap_InceptionV3.h5\", \"gap_InceptionResNetV2.h5\"]:\n",
    "    with h5py.File(filename, 'r') as h:\n",
    "        X_train.append(np.array(h['train']))\n",
    "        X_test.append(np.array(h['test']))\n",
    "        y_train = np.array(h['label'])\n",
    "\n",
    "X_train = np.concatenate(X_train, axis=1)\n",
    "X_test = np.concatenate(X_test, axis=1)\n",
    "\n",
    "X_train, y_train = shuffle(X_train, y_train)"
   ]
  },
  {
   "cell_type": "code",
   "execution_count": 3,
   "metadata": {},
   "outputs": [],
   "source": [
    "input_tensor = Input(X_train.shape[1:])\n",
    "x = input_tensor\n",
    "x = Dropout(0.5)(x)\n",
    "x = Dense(1, activation='sigmoid')(x)\n",
    "model = Model(input_tensor, x)\n",
    "\n",
    "model.compile(optimizer='adadelta', loss='binary_crossentropy', metrics=['accuracy'])"
   ]
  },
  {
   "cell_type": "code",
   "execution_count": 4,
   "metadata": {},
   "outputs": [
    {
     "data": {
      "image/svg+xml": [
       "<svg height=\"221pt\" viewBox=\"0.00 0.00 277.00 221.00\" width=\"277pt\" xmlns=\"http://www.w3.org/2000/svg\" xmlns:xlink=\"http://www.w3.org/1999/xlink\">\n",
       "<g class=\"graph\" id=\"graph0\" transform=\"scale(1 1) rotate(0) translate(4 217)\">\n",
       "<title>G</title>\n",
       "<polygon fill=\"#ffffff\" points=\"-4,4 -4,-217 273,-217 273,4 -4,4\" stroke=\"transparent\"/>\n",
       "<!-- 140405028697368 -->\n",
       "<g class=\"node\" id=\"node1\">\n",
       "<title>140405028697368</title>\n",
       "<polygon fill=\"none\" points=\"0,-166.5 0,-212.5 269,-212.5 269,-166.5 0,-166.5\" stroke=\"#000000\"/>\n",
       "<text fill=\"#000000\" font-family=\"Times,serif\" font-size=\"14.00\" text-anchor=\"middle\" x=\"62.5\" y=\"-185.8\">input_1: InputLayer</text>\n",
       "<polyline fill=\"none\" points=\"125,-166.5 125,-212.5 \" stroke=\"#000000\"/>\n",
       "<text fill=\"#000000\" font-family=\"Times,serif\" font-size=\"14.00\" text-anchor=\"middle\" x=\"152.5\" y=\"-197.3\">input:</text>\n",
       "<polyline fill=\"none\" points=\"125,-189.5 180,-189.5 \" stroke=\"#000000\"/>\n",
       "<text fill=\"#000000\" font-family=\"Times,serif\" font-size=\"14.00\" text-anchor=\"middle\" x=\"152.5\" y=\"-174.3\">output:</text>\n",
       "<polyline fill=\"none\" points=\"180,-166.5 180,-212.5 \" stroke=\"#000000\"/>\n",
       "<text fill=\"#000000\" font-family=\"Times,serif\" font-size=\"14.00\" text-anchor=\"middle\" x=\"224.5\" y=\"-197.3\">(None, 3584)</text>\n",
       "<polyline fill=\"none\" points=\"180,-189.5 269,-189.5 \" stroke=\"#000000\"/>\n",
       "<text fill=\"#000000\" font-family=\"Times,serif\" font-size=\"14.00\" text-anchor=\"middle\" x=\"224.5\" y=\"-174.3\">(None, 3584)</text>\n",
       "</g>\n",
       "<!-- 140405028698376 -->\n",
       "<g class=\"node\" id=\"node2\">\n",
       "<title>140405028698376</title>\n",
       "<polygon fill=\"none\" points=\"0,-83.5 0,-129.5 269,-129.5 269,-83.5 0,-83.5\" stroke=\"#000000\"/>\n",
       "<text fill=\"#000000\" font-family=\"Times,serif\" font-size=\"14.00\" text-anchor=\"middle\" x=\"62.5\" y=\"-102.8\">dropout_1: Dropout</text>\n",
       "<polyline fill=\"none\" points=\"125,-83.5 125,-129.5 \" stroke=\"#000000\"/>\n",
       "<text fill=\"#000000\" font-family=\"Times,serif\" font-size=\"14.00\" text-anchor=\"middle\" x=\"152.5\" y=\"-114.3\">input:</text>\n",
       "<polyline fill=\"none\" points=\"125,-106.5 180,-106.5 \" stroke=\"#000000\"/>\n",
       "<text fill=\"#000000\" font-family=\"Times,serif\" font-size=\"14.00\" text-anchor=\"middle\" x=\"152.5\" y=\"-91.3\">output:</text>\n",
       "<polyline fill=\"none\" points=\"180,-83.5 180,-129.5 \" stroke=\"#000000\"/>\n",
       "<text fill=\"#000000\" font-family=\"Times,serif\" font-size=\"14.00\" text-anchor=\"middle\" x=\"224.5\" y=\"-114.3\">(None, 3584)</text>\n",
       "<polyline fill=\"none\" points=\"180,-106.5 269,-106.5 \" stroke=\"#000000\"/>\n",
       "<text fill=\"#000000\" font-family=\"Times,serif\" font-size=\"14.00\" text-anchor=\"middle\" x=\"224.5\" y=\"-91.3\">(None, 3584)</text>\n",
       "</g>\n",
       "<!-- 140405028697368&#45;&gt;140405028698376 -->\n",
       "<g class=\"edge\" id=\"edge1\">\n",
       "<title>140405028697368-&gt;140405028698376</title>\n",
       "<path d=\"M134.5,-166.3799C134.5,-158.1745 134.5,-148.7679 134.5,-139.8786\" fill=\"none\" stroke=\"#000000\"/>\n",
       "<polygon fill=\"#000000\" points=\"138.0001,-139.784 134.5,-129.784 131.0001,-139.784 138.0001,-139.784\" stroke=\"#000000\"/>\n",
       "</g>\n",
       "<!-- 140405028696920 -->\n",
       "<g class=\"node\" id=\"node3\">\n",
       "<title>140405028696920</title>\n",
       "<polygon fill=\"none\" points=\"11.5,-.5 11.5,-46.5 257.5,-46.5 257.5,-.5 11.5,-.5\" stroke=\"#000000\"/>\n",
       "<text fill=\"#000000\" font-family=\"Times,serif\" font-size=\"14.00\" text-anchor=\"middle\" x=\"62.5\" y=\"-19.8\">dense_1: Dense</text>\n",
       "<polyline fill=\"none\" points=\"113.5,-.5 113.5,-46.5 \" stroke=\"#000000\"/>\n",
       "<text fill=\"#000000\" font-family=\"Times,serif\" font-size=\"14.00\" text-anchor=\"middle\" x=\"141\" y=\"-31.3\">input:</text>\n",
       "<polyline fill=\"none\" points=\"113.5,-23.5 168.5,-23.5 \" stroke=\"#000000\"/>\n",
       "<text fill=\"#000000\" font-family=\"Times,serif\" font-size=\"14.00\" text-anchor=\"middle\" x=\"141\" y=\"-8.3\">output:</text>\n",
       "<polyline fill=\"none\" points=\"168.5,-.5 168.5,-46.5 \" stroke=\"#000000\"/>\n",
       "<text fill=\"#000000\" font-family=\"Times,serif\" font-size=\"14.00\" text-anchor=\"middle\" x=\"213\" y=\"-31.3\">(None, 3584)</text>\n",
       "<polyline fill=\"none\" points=\"168.5,-23.5 257.5,-23.5 \" stroke=\"#000000\"/>\n",
       "<text fill=\"#000000\" font-family=\"Times,serif\" font-size=\"14.00\" text-anchor=\"middle\" x=\"213\" y=\"-8.3\">(None, 1)</text>\n",
       "</g>\n",
       "<!-- 140405028698376&#45;&gt;140405028696920 -->\n",
       "<g class=\"edge\" id=\"edge2\">\n",
       "<title>140405028698376-&gt;140405028696920</title>\n",
       "<path d=\"M134.5,-83.3799C134.5,-75.1745 134.5,-65.7679 134.5,-56.8786\" fill=\"none\" stroke=\"#000000\"/>\n",
       "<polygon fill=\"#000000\" points=\"138.0001,-56.784 134.5,-46.784 131.0001,-56.784 138.0001,-56.784\" stroke=\"#000000\"/>\n",
       "</g>\n",
       "</g>\n",
       "</svg>"
      ],
      "text/plain": [
       "<IPython.core.display.SVG object>"
      ]
     },
     "execution_count": 4,
     "metadata": {},
     "output_type": "execute_result"
    }
   ],
   "source": [
    "from IPython.display import SVG\n",
    "from keras.utils.vis_utils import plot_model\n",
    "from keras.utils.vis_utils import *\n",
    "\n",
    "#plot_model(model, to_file='gap_model.png',show_shapes=True)\n",
    "SVG(model_to_dot(model, show_shapes=True).create(prog='dot', format='svg'))"
   ]
  },
  {
   "cell_type": "code",
   "execution_count": 6,
   "metadata": {},
   "outputs": [
    {
     "name": "stdout",
     "output_type": "stream",
     "text": [
      "Train on 19969 samples, validate on 4993 samples\n",
      "Epoch 1/20\n",
      " 5376/19969 [=======>......................] - ETA: 0s - loss: 0.0147 - acc: 0.9950"
     ]
    },
    {
     "name": "stderr",
     "output_type": "stream",
     "text": [
      "/home/ubuntu/anaconda3/envs/tensorflow_p36/lib/python3.6/site-packages/ipykernel/__main__.py:1: UserWarning: The `nb_epoch` argument in `fit` has been renamed `epochs`.\n",
      "  if __name__ == '__main__':\n"
     ]
    },
    {
     "name": "stdout",
     "output_type": "stream",
     "text": [
      "19969/19969 [==============================] - 1s 34us/step - loss: 0.0125 - acc: 0.9961 - val_loss: 0.0116 - val_acc: 0.9962\n",
      "Epoch 2/20\n",
      "19969/19969 [==============================] - 1s 34us/step - loss: 0.0118 - acc: 0.9966 - val_loss: 0.0110 - val_acc: 0.9960\n",
      "Epoch 3/20\n",
      "19969/19969 [==============================] - 1s 33us/step - loss: 0.0104 - acc: 0.9971 - val_loss: 0.0106 - val_acc: 0.9962\n",
      "Epoch 4/20\n",
      "19969/19969 [==============================] - 1s 33us/step - loss: 0.0109 - acc: 0.9966 - val_loss: 0.0125 - val_acc: 0.9964\n",
      "Epoch 5/20\n",
      "19969/19969 [==============================] - 1s 34us/step - loss: 0.0109 - acc: 0.9970 - val_loss: 0.0125 - val_acc: 0.9950\n",
      "Epoch 6/20\n",
      "19969/19969 [==============================] - 1s 34us/step - loss: 0.0116 - acc: 0.9967 - val_loss: 0.0113 - val_acc: 0.9960\n",
      "Epoch 7/20\n",
      "19969/19969 [==============================] - 1s 34us/step - loss: 0.0107 - acc: 0.9968 - val_loss: 0.0110 - val_acc: 0.9962\n",
      "Epoch 8/20\n",
      "19969/19969 [==============================] - 1s 33us/step - loss: 0.0105 - acc: 0.9974 - val_loss: 0.0109 - val_acc: 0.9958\n",
      "Epoch 9/20\n",
      "19969/19969 [==============================] - 1s 32us/step - loss: 0.0097 - acc: 0.9971 - val_loss: 0.0117 - val_acc: 0.9954\n",
      "Epoch 10/20\n",
      "19969/19969 [==============================] - 1s 33us/step - loss: 0.0106 - acc: 0.9970 - val_loss: 0.0109 - val_acc: 0.9962\n",
      "Epoch 11/20\n",
      "19969/19969 [==============================] - 1s 34us/step - loss: 0.0100 - acc: 0.9970 - val_loss: 0.0119 - val_acc: 0.9952\n",
      "Epoch 12/20\n",
      "19969/19969 [==============================] - 1s 34us/step - loss: 0.0100 - acc: 0.9974 - val_loss: 0.0110 - val_acc: 0.9960\n",
      "Epoch 13/20\n",
      "19969/19969 [==============================] - 1s 34us/step - loss: 0.0101 - acc: 0.9969 - val_loss: 0.0108 - val_acc: 0.9960\n",
      "Epoch 14/20\n",
      "19969/19969 [==============================] - 1s 34us/step - loss: 0.0109 - acc: 0.9967 - val_loss: 0.0111 - val_acc: 0.9962\n",
      "Epoch 15/20\n",
      "19969/19969 [==============================] - 1s 34us/step - loss: 0.0095 - acc: 0.9973 - val_loss: 0.0111 - val_acc: 0.9958\n",
      "Epoch 16/20\n",
      "19969/19969 [==============================] - 1s 33us/step - loss: 0.0090 - acc: 0.9974 - val_loss: 0.0116 - val_acc: 0.9954\n",
      "Epoch 17/20\n",
      "19969/19969 [==============================] - 1s 33us/step - loss: 0.0095 - acc: 0.9970 - val_loss: 0.0109 - val_acc: 0.9958\n",
      "Epoch 18/20\n",
      "19969/19969 [==============================] - 1s 33us/step - loss: 0.0085 - acc: 0.9976 - val_loss: 0.0111 - val_acc: 0.9956\n",
      "Epoch 19/20\n",
      "19969/19969 [==============================] - 1s 33us/step - loss: 0.0092 - acc: 0.9972 - val_loss: 0.0121 - val_acc: 0.9956\n",
      "Epoch 20/20\n",
      "19969/19969 [==============================] - 1s 34us/step - loss: 0.0089 - acc: 0.9970 - val_loss: 0.0112 - val_acc: 0.9960\n"
     ]
    },
    {
     "data": {
      "text/plain": [
       "<keras.callbacks.History at 0x7fb297c4c9b0>"
      ]
     },
     "execution_count": 6,
     "metadata": {},
     "output_type": "execute_result"
    }
   ],
   "source": [
    "model.fit(X_train, y_train, batch_size=128, nb_epoch=20, validation_split=0.2)"
   ]
  },
  {
   "cell_type": "code",
   "execution_count": 7,
   "metadata": {},
   "outputs": [
    {
     "name": "stdout",
     "output_type": "stream",
     "text": [
      "12500/12500 [==============================] - 0s 33us/step\n"
     ]
    }
   ],
   "source": [
    "model.save('mergev3_model.h5')\n",
    "y_pred = model.predict(X_test, verbose=1)"
   ]
  },
  {
   "cell_type": "code",
   "execution_count": 8,
   "metadata": {
    "scrolled": true
   },
   "outputs": [
    {
     "name": "stdout",
     "output_type": "stream",
     "text": [
      "Found 12500 images belonging to 1 classes.\n"
     ]
    },
    {
     "name": "stderr",
     "output_type": "stream",
     "text": [
      "/home/ubuntu/anaconda3/envs/tensorflow_p36/lib/python3.6/site-packages/ipykernel/__main__.py:13: FutureWarning: set_value is deprecated and will be removed in a future release. Please use .at[] or .iat[] accessors instead\n"
     ]
    },
    {
     "data": {
      "text/html": [
       "<div>\n",
       "<style scoped>\n",
       "    .dataframe tbody tr th:only-of-type {\n",
       "        vertical-align: middle;\n",
       "    }\n",
       "\n",
       "    .dataframe tbody tr th {\n",
       "        vertical-align: top;\n",
       "    }\n",
       "\n",
       "    .dataframe thead th {\n",
       "        text-align: right;\n",
       "    }\n",
       "</style>\n",
       "<table border=\"1\" class=\"dataframe\">\n",
       "  <thead>\n",
       "    <tr style=\"text-align: right;\">\n",
       "      <th></th>\n",
       "      <th>id</th>\n",
       "      <th>label</th>\n",
       "    </tr>\n",
       "  </thead>\n",
       "  <tbody>\n",
       "    <tr>\n",
       "      <th>0</th>\n",
       "      <td>1</td>\n",
       "      <td>0.995</td>\n",
       "    </tr>\n",
       "    <tr>\n",
       "      <th>1</th>\n",
       "      <td>2</td>\n",
       "      <td>0.995</td>\n",
       "    </tr>\n",
       "    <tr>\n",
       "      <th>2</th>\n",
       "      <td>3</td>\n",
       "      <td>0.995</td>\n",
       "    </tr>\n",
       "    <tr>\n",
       "      <th>3</th>\n",
       "      <td>4</td>\n",
       "      <td>0.995</td>\n",
       "    </tr>\n",
       "    <tr>\n",
       "      <th>4</th>\n",
       "      <td>5</td>\n",
       "      <td>0.005</td>\n",
       "    </tr>\n",
       "    <tr>\n",
       "      <th>5</th>\n",
       "      <td>6</td>\n",
       "      <td>0.005</td>\n",
       "    </tr>\n",
       "    <tr>\n",
       "      <th>6</th>\n",
       "      <td>7</td>\n",
       "      <td>0.005</td>\n",
       "    </tr>\n",
       "    <tr>\n",
       "      <th>7</th>\n",
       "      <td>8</td>\n",
       "      <td>0.005</td>\n",
       "    </tr>\n",
       "    <tr>\n",
       "      <th>8</th>\n",
       "      <td>9</td>\n",
       "      <td>0.005</td>\n",
       "    </tr>\n",
       "    <tr>\n",
       "      <th>9</th>\n",
       "      <td>10</td>\n",
       "      <td>0.005</td>\n",
       "    </tr>\n",
       "  </tbody>\n",
       "</table>\n",
       "</div>"
      ],
      "text/plain": [
       "   id  label\n",
       "0   1  0.995\n",
       "1   2  0.995\n",
       "2   3  0.995\n",
       "3   4  0.995\n",
       "4   5  0.005\n",
       "5   6  0.005\n",
       "6   7  0.005\n",
       "7   8  0.005\n",
       "8   9  0.005\n",
       "9  10  0.005"
      ]
     },
     "execution_count": 8,
     "metadata": {},
     "output_type": "execute_result"
    }
   ],
   "source": [
    "import pandas as pd\n",
    "from keras.preprocessing.image import *\n",
    "y_pred = y_pred.clip(min=0.005, max=0.995)\n",
    "df = pd.read_csv(\"sample_submission.csv\")\n",
    "\n",
    "image_size = (224, 224)\n",
    "gen = ImageDataGenerator()\n",
    "test_generator = gen.flow_from_directory(\"test2\", image_size, shuffle=False, \n",
    "                                         batch_size=16, class_mode=None)\n",
    "\n",
    "for i, fname in enumerate(test_generator.filenames):\n",
    "    index = int(fname[fname.rfind('/')+1:fname.rfind('.')])\n",
    "    df.set_value(index-1, 'label', y_pred[i])\n",
    "\n",
    "df.to_csv('mergev3_pred.csv', index=None)\n",
    "\n",
    "\n",
    "df.head(10)"
   ]
  },
  {
   "cell_type": "markdown",
   "metadata": {},
   "source": [
    "在kaggle上的得分是0.03746"
   ]
  },
  {
   "cell_type": "code",
   "execution_count": 11,
   "metadata": {},
   "outputs": [],
   "source": []
  },
  {
   "cell_type": "code",
   "execution_count": null,
   "metadata": {},
   "outputs": [],
   "source": []
  }
 ],
 "metadata": {
  "kernelspec": {
   "display_name": "Python [conda env:tensorflow_p36]",
   "language": "python",
   "name": "conda-env-tensorflow_p36-py"
  },
  "language_info": {
   "codemirror_mode": {
    "name": "ipython",
    "version": 3
   },
   "file_extension": ".py",
   "mimetype": "text/x-python",
   "name": "python",
   "nbconvert_exporter": "python",
   "pygments_lexer": "ipython3",
   "version": "3.6.4"
  }
 },
 "nbformat": 4,
 "nbformat_minor": 2
}
