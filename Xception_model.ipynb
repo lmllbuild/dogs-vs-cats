{
 "cells": [
  {
   "cell_type": "markdown",
   "metadata": {},
   "source": [
    "# Xception上的测试"
   ]
  },
  {
   "cell_type": "code",
   "execution_count": 1,
   "metadata": {},
   "outputs": [
    {
     "name": "stderr",
     "output_type": "stream",
     "text": [
      "/home/ubuntu/anaconda3/envs/tensorflow_p36/lib/python3.6/site-packages/h5py/__init__.py:36: FutureWarning: Conversion of the second argument of issubdtype from `float` to `np.floating` is deprecated. In future, it will be treated as `np.float64 == np.dtype(float).type`.\n",
      "  from ._conv import register_converters as _register_converters\n",
      "Using TensorFlow backend.\n",
      "/home/ubuntu/anaconda3/envs/tensorflow_p36/lib/python3.6/site-packages/matplotlib/__init__.py:1067: UserWarning: Duplicate key in file \"/home/ubuntu/.config/matplotlib/matplotlibrc\", line #2\n",
      "  (fname, cnt))\n",
      "/home/ubuntu/anaconda3/envs/tensorflow_p36/lib/python3.6/site-packages/matplotlib/__init__.py:1067: UserWarning: Duplicate key in file \"/home/ubuntu/.config/matplotlib/matplotlibrc\", line #3\n",
      "  (fname, cnt))\n"
     ]
    }
   ],
   "source": [
    "from keras.models import *\n",
    "from keras.layers import *\n",
    "from keras.applications import *\n",
    "from keras.preprocessing.image import *\n",
    "import numpy as np\n",
    "from sklearn.utils import shuffle\n",
    "import pandas as pd\n",
    "\n",
    "import h5py\n",
    "import os\n",
    "import shutil"
   ]
  },
  {
   "cell_type": "markdown",
   "metadata": {},
   "source": [
    "## 数据处理\n",
    "读取训练和测试图片，格式化成（299,299,3）的格式。并且划分训练集和验证集"
   ]
  },
  {
   "cell_type": "code",
   "execution_count": 2,
   "metadata": {},
   "outputs": [],
   "source": [
    "import numpy as np\n",
    "from tqdm import tqdm\n",
    "import cv2\n",
    "\n",
    "np.random.seed(2017)\n",
    "\n",
    "n = 24962\n",
    "X = np.zeros((n, 299, 299, 3), dtype=np.uint8)\n",
    "y = np.zeros((n, 1), dtype=np.uint8)\n",
    "\n",
    "train_cat2 = os.listdir(\"train2/cat\")\n",
    "train_dog2 = os.listdir(\"train2/dog\")\n",
    "\n",
    "i = 0\n",
    "for filename in train_cat2:\n",
    "    X[i] = cv2.resize(cv2.imread('train/%s' % filename), (299, 299))\n",
    "    y[i] = 0\n",
    "    i += 1\n",
    "for filename in train_dog2:\n",
    "    X[i] = cv2.resize(cv2.imread('train/%s' % filename), (299, 299))\n",
    "    y[i] = 1\n",
    "    i += 1"
   ]
  },
  {
   "cell_type": "code",
   "execution_count": 3,
   "metadata": {},
   "outputs": [],
   "source": [
    "m = 12500\n",
    "X_test = np.zeros((m, 299, 299, 3), dtype=np.uint8)\n",
    "\n",
    "test_file = os.listdir(\"test\")\n",
    "j = 0\n",
    "for filename in test_file:\n",
    "    X_test[j] = cv2.resize(cv2.imread('test/%s' % filename), (299, 299))\n",
    "    j += 1"
   ]
  },
  {
   "cell_type": "code",
   "execution_count": 4,
   "metadata": {},
   "outputs": [
    {
     "name": "stdout",
     "output_type": "stream",
     "text": [
      "i= 24962\n",
      "X_test size: (12500, 299, 299, 3)\n"
     ]
    }
   ],
   "source": [
    "print(\"i=\", i)\n",
    "print(\"X_test size:\", X_test.shape)"
   ]
  },
  {
   "cell_type": "code",
   "execution_count": 5,
   "metadata": {},
   "outputs": [],
   "source": [
    "from sklearn.model_selection import train_test_split\n",
    "X_train, X_valid, y_train, y_valid = train_test_split(X, y, test_size=0.2)"
   ]
  },
  {
   "cell_type": "markdown",
   "metadata": {},
   "source": [
    "## 模型一\n",
    "去除顶层，锁定其他所有层，不参与训练；在这模型的基础上，加上GAP层和Dropout层，加sigmoid激活函数得出二分类的结果"
   ]
  },
  {
   "cell_type": "code",
   "execution_count": 6,
   "metadata": {},
   "outputs": [],
   "source": [
    "base_model = Xception(input_tensor=Lambda(xception.preprocess_input)(Input((299, 299, 3))), weights='imagenet', include_top=False)\n",
    "\n",
    "for layers in base_model.layers:\n",
    "    layers.trainable = False\n",
    "\n",
    "x = GlobalAveragePooling2D()(base_model.output)\n",
    "x = Dropout(0.5)(x)\n",
    "x = Dense(1, activation='sigmoid')(x)\n",
    "model = Model(base_model.input, x)"
   ]
  },
  {
   "cell_type": "code",
   "execution_count": 7,
   "metadata": {},
   "outputs": [],
   "source": [
    "model.compile(optimizer='adadelta',\n",
    "              loss='binary_crossentropy',\n",
    "              metrics=['accuracy'])"
   ]
  },
  {
   "cell_type": "code",
   "execution_count": 8,
   "metadata": {},
   "outputs": [
    {
     "name": "stdout",
     "output_type": "stream",
     "text": [
      "Train on 19969 samples, validate on 4993 samples\n",
      "Epoch 1/5\n",
      "19969/19969 [==============================] - 102s 5ms/step - loss: 0.1283 - acc: 0.9637 - val_loss: 0.0876 - val_acc: 0.9770\n",
      "Epoch 2/5\n",
      "19969/19969 [==============================] - 99s 5ms/step - loss: 0.0688 - acc: 0.9761 - val_loss: 0.1021 - val_acc: 0.9692\n",
      "Epoch 3/5\n",
      "19969/19969 [==============================] - 99s 5ms/step - loss: 0.0584 - acc: 0.9803 - val_loss: 0.1117 - val_acc: 0.9654\n",
      "Epoch 4/5\n",
      "19969/19969 [==============================] - 99s 5ms/step - loss: 0.0559 - acc: 0.9794 - val_loss: 0.0769 - val_acc: 0.9752\n",
      "Epoch 5/5\n",
      "19969/19969 [==============================] - 99s 5ms/step - loss: 0.0573 - acc: 0.9804 - val_loss: 0.0841 - val_acc: 0.9732\n"
     ]
    },
    {
     "data": {
      "text/plain": [
       "<keras.callbacks.History at 0x7f6cc4237240>"
      ]
     },
     "execution_count": 8,
     "metadata": {},
     "output_type": "execute_result"
    }
   ],
   "source": [
    "model.fit(X_train, y_train, batch_size=32, epochs=5, validation_data=(X_valid, y_valid))"
   ]
  },
  {
   "cell_type": "code",
   "execution_count": 9,
   "metadata": {},
   "outputs": [
    {
     "name": "stdout",
     "output_type": "stream",
     "text": [
      "0 input_1\n",
      "1 lambda_1\n",
      "2 block1_conv1\n",
      "3 block1_conv1_bn\n",
      "4 block1_conv1_act\n",
      "5 block1_conv2\n",
      "6 block1_conv2_bn\n",
      "7 block1_conv2_act\n",
      "8 block2_sepconv1\n",
      "9 block2_sepconv1_bn\n",
      "10 block2_sepconv2_act\n",
      "11 block2_sepconv2\n",
      "12 block2_sepconv2_bn\n",
      "13 conv2d_1\n",
      "14 block2_pool\n",
      "15 batch_normalization_1\n",
      "16 add_1\n",
      "17 block3_sepconv1_act\n",
      "18 block3_sepconv1\n",
      "19 block3_sepconv1_bn\n",
      "20 block3_sepconv2_act\n",
      "21 block3_sepconv2\n",
      "22 block3_sepconv2_bn\n",
      "23 conv2d_2\n",
      "24 block3_pool\n",
      "25 batch_normalization_2\n",
      "26 add_2\n",
      "27 block4_sepconv1_act\n",
      "28 block4_sepconv1\n",
      "29 block4_sepconv1_bn\n",
      "30 block4_sepconv2_act\n",
      "31 block4_sepconv2\n",
      "32 block4_sepconv2_bn\n",
      "33 conv2d_3\n",
      "34 block4_pool\n",
      "35 batch_normalization_3\n",
      "36 add_3\n",
      "37 block5_sepconv1_act\n",
      "38 block5_sepconv1\n",
      "39 block5_sepconv1_bn\n",
      "40 block5_sepconv2_act\n",
      "41 block5_sepconv2\n",
      "42 block5_sepconv2_bn\n",
      "43 block5_sepconv3_act\n",
      "44 block5_sepconv3\n",
      "45 block5_sepconv3_bn\n",
      "46 add_4\n",
      "47 block6_sepconv1_act\n",
      "48 block6_sepconv1\n",
      "49 block6_sepconv1_bn\n",
      "50 block6_sepconv2_act\n",
      "51 block6_sepconv2\n",
      "52 block6_sepconv2_bn\n",
      "53 block6_sepconv3_act\n",
      "54 block6_sepconv3\n",
      "55 block6_sepconv3_bn\n",
      "56 add_5\n",
      "57 block7_sepconv1_act\n",
      "58 block7_sepconv1\n",
      "59 block7_sepconv1_bn\n",
      "60 block7_sepconv2_act\n",
      "61 block7_sepconv2\n",
      "62 block7_sepconv2_bn\n",
      "63 block7_sepconv3_act\n",
      "64 block7_sepconv3\n",
      "65 block7_sepconv3_bn\n",
      "66 add_6\n",
      "67 block8_sepconv1_act\n",
      "68 block8_sepconv1\n",
      "69 block8_sepconv1_bn\n",
      "70 block8_sepconv2_act\n",
      "71 block8_sepconv2\n",
      "72 block8_sepconv2_bn\n",
      "73 block8_sepconv3_act\n",
      "74 block8_sepconv3\n",
      "75 block8_sepconv3_bn\n",
      "76 add_7\n",
      "77 block9_sepconv1_act\n",
      "78 block9_sepconv1\n",
      "79 block9_sepconv1_bn\n",
      "80 block9_sepconv2_act\n",
      "81 block9_sepconv2\n",
      "82 block9_sepconv2_bn\n",
      "83 block9_sepconv3_act\n",
      "84 block9_sepconv3\n",
      "85 block9_sepconv3_bn\n",
      "86 add_8\n",
      "87 block10_sepconv1_act\n",
      "88 block10_sepconv1\n",
      "89 block10_sepconv1_bn\n",
      "90 block10_sepconv2_act\n",
      "91 block10_sepconv2\n",
      "92 block10_sepconv2_bn\n",
      "93 block10_sepconv3_act\n",
      "94 block10_sepconv3\n",
      "95 block10_sepconv3_bn\n",
      "96 add_9\n",
      "97 block11_sepconv1_act\n",
      "98 block11_sepconv1\n",
      "99 block11_sepconv1_bn\n",
      "100 block11_sepconv2_act\n",
      "101 block11_sepconv2\n",
      "102 block11_sepconv2_bn\n",
      "103 block11_sepconv3_act\n",
      "104 block11_sepconv3\n",
      "105 block11_sepconv3_bn\n",
      "106 add_10\n",
      "107 block12_sepconv1_act\n",
      "108 block12_sepconv1\n",
      "109 block12_sepconv1_bn\n",
      "110 block12_sepconv2_act\n",
      "111 block12_sepconv2\n",
      "112 block12_sepconv2_bn\n",
      "113 block12_sepconv3_act\n",
      "114 block12_sepconv3\n",
      "115 block12_sepconv3_bn\n",
      "116 add_11\n",
      "117 block13_sepconv1_act\n",
      "118 block13_sepconv1\n",
      "119 block13_sepconv1_bn\n",
      "120 block13_sepconv2_act\n",
      "121 block13_sepconv2\n",
      "122 block13_sepconv2_bn\n",
      "123 conv2d_4\n",
      "124 block13_pool\n",
      "125 batch_normalization_4\n",
      "126 add_12\n",
      "127 block14_sepconv1\n",
      "128 block14_sepconv1_bn\n",
      "129 block14_sepconv1_act\n",
      "130 block14_sepconv2\n",
      "131 block14_sepconv2_bn\n",
      "132 block14_sepconv2_act\n",
      "133 global_average_pooling2d_1\n",
      "134 dropout_1\n",
      "135 dense_1\n"
     ]
    }
   ],
   "source": [
    "for i in range(len(model.layers)):\n",
    "    print(i,model.layers[i].name)"
   ]
  },
  {
   "cell_type": "code",
   "execution_count": 10,
   "metadata": {},
   "outputs": [
    {
     "name": "stdout",
     "output_type": "stream",
     "text": [
      "12500/12500 [==============================] - 54s 4ms/step\n"
     ]
    }
   ],
   "source": [
    "model.save_weights('xception_weights_1.h5')  \n",
    "y_pred = model.predict(X_test, verbose=1)"
   ]
  },
  {
   "cell_type": "code",
   "execution_count": 11,
   "metadata": {},
   "outputs": [
    {
     "name": "stderr",
     "output_type": "stream",
     "text": [
      "/home/ubuntu/anaconda3/envs/tensorflow_p36/lib/python3.6/site-packages/ipykernel/__main__.py:5: FutureWarning: set_value is deprecated and will be removed in a future release. Please use .at[] or .iat[] accessors instead\n"
     ]
    },
    {
     "data": {
      "text/html": [
       "<div>\n",
       "<style scoped>\n",
       "    .dataframe tbody tr th:only-of-type {\n",
       "        vertical-align: middle;\n",
       "    }\n",
       "\n",
       "    .dataframe tbody tr th {\n",
       "        vertical-align: top;\n",
       "    }\n",
       "\n",
       "    .dataframe thead th {\n",
       "        text-align: right;\n",
       "    }\n",
       "</style>\n",
       "<table border=\"1\" class=\"dataframe\">\n",
       "  <thead>\n",
       "    <tr style=\"text-align: right;\">\n",
       "      <th></th>\n",
       "      <th>id</th>\n",
       "      <th>label</th>\n",
       "    </tr>\n",
       "  </thead>\n",
       "  <tbody>\n",
       "    <tr>\n",
       "      <th>0</th>\n",
       "      <td>1</td>\n",
       "      <td>0.979796</td>\n",
       "    </tr>\n",
       "    <tr>\n",
       "      <th>1</th>\n",
       "      <td>2</td>\n",
       "      <td>0.995000</td>\n",
       "    </tr>\n",
       "  </tbody>\n",
       "</table>\n",
       "</div>"
      ],
      "text/plain": [
       "   id     label\n",
       "0   1  0.979796\n",
       "1   2  0.995000"
      ]
     },
     "execution_count": 11,
     "metadata": {},
     "output_type": "execute_result"
    }
   ],
   "source": [
    "y_pred = y_pred.clip(min=0.005, max=0.995)\n",
    "df = pd.read_csv(\"sample_submission.csv\")\n",
    "for i, fname in enumerate(test_file):\n",
    "    index = int(fname[fname.rfind('/')+1:fname.rfind('.')])\n",
    "    df.set_value(index-1, 'label', y_pred[i])\n",
    "\n",
    "df.to_csv('xception_predict_1.csv', index=None)\n",
    "df.head(2)"
   ]
  },
  {
   "cell_type": "markdown",
   "metadata": {},
   "source": [
    "在kaggle上的得分是0.11558"
   ]
  },
  {
   "cell_type": "markdown",
   "metadata": {},
   "source": [
    "## 模型二\n",
    "fine-tuning 锁前70层，放开70层之后的层参与训练"
   ]
  },
  {
   "cell_type": "code",
   "execution_count": 12,
   "metadata": {},
   "outputs": [],
   "source": [
    "for layers in base_model.layers:\n",
    "    layers.trainable = False\n",
    "for layer in model.layers[70:]:\n",
    "    layer.trainable = True\n",
    "model.load_weights('xception_weights_1.h5')\n",
    "model.compile(optimizer='adadelta',\n",
    "              loss='binary_crossentropy',\n",
    "              metrics=['accuracy'])"
   ]
  },
  {
   "cell_type": "code",
   "execution_count": 13,
   "metadata": {},
   "outputs": [
    {
     "name": "stdout",
     "output_type": "stream",
     "text": [
      "Train on 19969 samples, validate on 4993 samples\n",
      "Epoch 1/5\n",
      "19969/19969 [==============================] - 147s 7ms/step - loss: 0.0436 - acc: 0.9847 - val_loss: 0.1206 - val_acc: 0.9696\n",
      "Epoch 2/5\n",
      "19969/19969 [==============================] - 142s 7ms/step - loss: 0.0149 - acc: 0.9956 - val_loss: 0.0207 - val_acc: 0.9942\n",
      "Epoch 3/5\n",
      "19969/19969 [==============================] - 142s 7ms/step - loss: 0.0048 - acc: 0.9987 - val_loss: 0.0217 - val_acc: 0.9958\n",
      "Epoch 4/5\n",
      "19969/19969 [==============================] - 142s 7ms/step - loss: 0.0016 - acc: 0.9995 - val_loss: 0.0236 - val_acc: 0.9946\n",
      "Epoch 5/5\n",
      "19969/19969 [==============================] - 142s 7ms/step - loss: 0.0033 - acc: 0.9991 - val_loss: 0.0209 - val_acc: 0.9948\n"
     ]
    }
   ],
   "source": [
    "model.fit(X_train, y_train, batch_size=32, epochs=5, validation_data=(X_valid, y_valid))\n",
    "model.save_weights('xception_weights_2.h5') "
   ]
  },
  {
   "cell_type": "code",
   "execution_count": 14,
   "metadata": {},
   "outputs": [
    {
     "name": "stdout",
     "output_type": "stream",
     "text": [
      "12500/12500 [==============================] - 55s 4ms/step\n"
     ]
    },
    {
     "name": "stderr",
     "output_type": "stream",
     "text": [
      "/home/ubuntu/anaconda3/envs/tensorflow_p36/lib/python3.6/site-packages/ipykernel/__main__.py:6: FutureWarning: set_value is deprecated and will be removed in a future release. Please use .at[] or .iat[] accessors instead\n"
     ]
    },
    {
     "data": {
      "text/html": [
       "<div>\n",
       "<style scoped>\n",
       "    .dataframe tbody tr th:only-of-type {\n",
       "        vertical-align: middle;\n",
       "    }\n",
       "\n",
       "    .dataframe tbody tr th {\n",
       "        vertical-align: top;\n",
       "    }\n",
       "\n",
       "    .dataframe thead th {\n",
       "        text-align: right;\n",
       "    }\n",
       "</style>\n",
       "<table border=\"1\" class=\"dataframe\">\n",
       "  <thead>\n",
       "    <tr style=\"text-align: right;\">\n",
       "      <th></th>\n",
       "      <th>id</th>\n",
       "      <th>label</th>\n",
       "    </tr>\n",
       "  </thead>\n",
       "  <tbody>\n",
       "    <tr>\n",
       "      <th>0</th>\n",
       "      <td>1</td>\n",
       "      <td>0.995</td>\n",
       "    </tr>\n",
       "    <tr>\n",
       "      <th>1</th>\n",
       "      <td>2</td>\n",
       "      <td>0.995</td>\n",
       "    </tr>\n",
       "  </tbody>\n",
       "</table>\n",
       "</div>"
      ],
      "text/plain": [
       "   id  label\n",
       "0   1  0.995\n",
       "1   2  0.995"
      ]
     },
     "execution_count": 14,
     "metadata": {},
     "output_type": "execute_result"
    }
   ],
   "source": [
    "y_pred = model.predict(X_test, verbose=1)\n",
    "y_pred = y_pred.clip(min=0.005, max=0.995)\n",
    "df = pd.read_csv(\"sample_submission.csv\")\n",
    "for i, fname in enumerate(test_file):\n",
    "    index = int(fname[fname.rfind('/')+1:fname.rfind('.')])\n",
    "    df.set_value(index-1, 'label', y_pred[i])\n",
    "\n",
    "df.to_csv('xception_predict_2.csv', index=None)\n",
    "df.head(2)"
   ]
  },
  {
   "cell_type": "markdown",
   "metadata": {},
   "source": [
    "在kaggle上的得分是0.04715"
   ]
  },
  {
   "cell_type": "markdown",
   "metadata": {},
   "source": [
    "# 模型三\n",
    "fine-tuning 锁前110层，放开110层之后的层参与训练"
   ]
  },
  {
   "cell_type": "code",
   "execution_count": 20,
   "metadata": {},
   "outputs": [],
   "source": [
    "for layers in base_model.layers:\n",
    "    layers.trainable = False\n",
    "for layer in model.layers[110:]:\n",
    "    layer.trainable = True\n",
    "model.load_weights('xception_weights_2.h5')\n",
    "model.compile(optimizer='adadelta',\n",
    "              loss='binary_crossentropy',\n",
    "              metrics=['accuracy'])"
   ]
  },
  {
   "cell_type": "code",
   "execution_count": 21,
   "metadata": {},
   "outputs": [
    {
     "name": "stdout",
     "output_type": "stream",
     "text": [
      "Train on 19969 samples, validate on 4993 samples\n",
      "Epoch 1/5\n",
      "19969/19969 [==============================] - 110s 6ms/step - loss: 0.0016 - acc: 0.9995 - val_loss: 0.0225 - val_acc: 0.9958\n",
      "Epoch 2/5\n",
      "19969/19969 [==============================] - 107s 5ms/step - loss: 2.7073e-04 - acc: 0.9999 - val_loss: 0.0245 - val_acc: 0.9946\n",
      "Epoch 3/5\n",
      "19969/19969 [==============================] - 107s 5ms/step - loss: 2.5106e-04 - acc: 0.9999 - val_loss: 0.0244 - val_acc: 0.9952\n",
      "Epoch 4/5\n",
      "19969/19969 [==============================] - 107s 5ms/step - loss: 3.3792e-04 - acc: 0.9999 - val_loss: 0.0234 - val_acc: 0.9954\n",
      "Epoch 5/5\n",
      "19969/19969 [==============================] - 107s 5ms/step - loss: 1.8252e-04 - acc: 0.9999 - val_loss: 0.0246 - val_acc: 0.9956\n"
     ]
    },
    {
     "data": {
      "text/plain": [
       "<keras.callbacks.History at 0x7f6c6e1f9898>"
      ]
     },
     "execution_count": 21,
     "metadata": {},
     "output_type": "execute_result"
    }
   ],
   "source": [
    "model.fit(X_train, y_train, batch_size=32, epochs=5, validation_data=(X_valid, y_valid))"
   ]
  },
  {
   "cell_type": "code",
   "execution_count": 17,
   "metadata": {},
   "outputs": [
    {
     "name": "stdout",
     "output_type": "stream",
     "text": [
      "12500/12500 [==============================] - 51s 4ms/step\n"
     ]
    },
    {
     "name": "stderr",
     "output_type": "stream",
     "text": [
      "/home/ubuntu/anaconda3/envs/tensorflow_p36/lib/python3.6/site-packages/ipykernel/__main__.py:6: FutureWarning: set_value is deprecated and will be removed in a future release. Please use .at[] or .iat[] accessors instead\n"
     ]
    },
    {
     "data": {
      "text/html": [
       "<div>\n",
       "<style scoped>\n",
       "    .dataframe tbody tr th:only-of-type {\n",
       "        vertical-align: middle;\n",
       "    }\n",
       "\n",
       "    .dataframe tbody tr th {\n",
       "        vertical-align: top;\n",
       "    }\n",
       "\n",
       "    .dataframe thead th {\n",
       "        text-align: right;\n",
       "    }\n",
       "</style>\n",
       "<table border=\"1\" class=\"dataframe\">\n",
       "  <thead>\n",
       "    <tr style=\"text-align: right;\">\n",
       "      <th></th>\n",
       "      <th>id</th>\n",
       "      <th>label</th>\n",
       "    </tr>\n",
       "  </thead>\n",
       "  <tbody>\n",
       "    <tr>\n",
       "      <th>0</th>\n",
       "      <td>1</td>\n",
       "      <td>0.995</td>\n",
       "    </tr>\n",
       "    <tr>\n",
       "      <th>1</th>\n",
       "      <td>2</td>\n",
       "      <td>0.995</td>\n",
       "    </tr>\n",
       "  </tbody>\n",
       "</table>\n",
       "</div>"
      ],
      "text/plain": [
       "   id  label\n",
       "0   1  0.995\n",
       "1   2  0.995"
      ]
     },
     "execution_count": 17,
     "metadata": {},
     "output_type": "execute_result"
    }
   ],
   "source": [
    "y_pred = model.predict(X_test, verbose=1)\n",
    "y_pred = y_pred.clip(min=0.005, max=0.995)\n",
    "df = pd.read_csv(\"sample_submission.csv\")\n",
    "for i, fname in enumerate(test_file):\n",
    "    index = int(fname[fname.rfind('/')+1:fname.rfind('.')])\n",
    "    df.set_value(index-1, 'label', y_pred[i])\n",
    "\n",
    "df.to_csv('xception_predict_3.csv', index=None)\n",
    "df.head(2)"
   ]
  },
  {
   "cell_type": "code",
   "execution_count": 18,
   "metadata": {},
   "outputs": [],
   "source": [
    "model.save_weights('xception_weights_3.h5') "
   ]
  },
  {
   "cell_type": "markdown",
   "metadata": {},
   "source": [
    "在kaggle上的得分是0.04663"
   ]
  },
  {
   "cell_type": "code",
   "execution_count": null,
   "metadata": {},
   "outputs": [],
   "source": []
  }
 ],
 "metadata": {
  "kernelspec": {
   "display_name": "Python [conda env:tensorflow_p36]",
   "language": "python",
   "name": "conda-env-tensorflow_p36-py"
  },
  "language_info": {
   "codemirror_mode": {
    "name": "ipython",
    "version": 3
   },
   "file_extension": ".py",
   "mimetype": "text/x-python",
   "name": "python",
   "nbconvert_exporter": "python",
   "pygments_lexer": "ipython3",
   "version": "3.6.4"
  }
 },
 "nbformat": 4,
 "nbformat_minor": 2
}
